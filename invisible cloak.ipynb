{
 "cells": [
  {
   "cell_type": "code",
   "execution_count": 1,
   "metadata": {},
   "outputs": [],
   "source": [
    "import numpy as np\n",
    "import cv2"
   ]
  },
  {
   "cell_type": "code",
   "execution_count": 2,
   "metadata": {},
   "outputs": [],
   "source": [
    "import time"
   ]
  },
  {
   "cell_type": "code",
   "execution_count": 3,
   "metadata": {},
   "outputs": [],
   "source": [
    "cap=cv2.VideoCapture(0)\n",
    "time.sleep(2)\n",
    "back=0\n",
    "for i in range(30):\n",
    "    ret,back=cap.read()\n",
    "while(cap.isOpened()):\n",
    "    ret,frame=cap.read()\n",
    "    \n",
    "    if not ret:\n",
    "        break\n",
    "    hsv=cv2.cvtColor(frame,cv2.COLOR_BGR2HSV)\n",
    "    lr=np.array([0,120,70])\n",
    "    ur=np.array([10,255,255])\n",
    "    mask=cv2.inRange(hsv,lr,ur)\n",
    "    \n",
    "    lr=np.array([170,120,70])\n",
    "    ur=np.array([180,255,255])\n",
    "    mask2=cv2.inRange(hsv,lr,ur)\n",
    "    \n",
    "    mask=mask+mask2\n",
    "    \n",
    "    mask=cv2.medianBlur(mask,5)\n",
    "    \n",
    "    mask=cv2.morphologyEx(mask,cv2.MORPH_OPEN,np.ones((5,5),np.uint8),iterations=2)\n",
    "    mask=cv2.morphologyEx(mask,cv2.MORPH_DILATE,np.ones((5,5),np.uint8),iterations=2)\n",
    "    \n",
    "    mask2=cv2.bitwise_not(mask)\n",
    "    res1=cv2.bitwise_and(back,back,mask=mask)\n",
    "    res2=cv2.bitwise_and(frame,frame,mask=mask2)\n",
    "    final=cv2.addWeighted(res1,1,res2,1,0)\n",
    "    cv2.imshow('whoosh!!',final)\n",
    "    \n",
    "    if cv2.waitKey(10)==27:\n",
    "        break\n",
    "cap.release()\n",
    "cv2.destroyAllWindows()\n",
    "    \n",
    "    \n",
    "    \n",
    "    \n",
    "    \n",
    "    \n",
    "    "
   ]
  },
  {
   "cell_type": "code",
   "execution_count": null,
   "metadata": {},
   "outputs": [],
   "source": []
  }
 ],
 "metadata": {
  "kernelspec": {
   "display_name": "Python 3",
   "language": "python",
   "name": "python3"
  },
  "language_info": {
   "codemirror_mode": {
    "name": "ipython",
    "version": 3
   },
   "file_extension": ".py",
   "mimetype": "text/x-python",
   "name": "python",
   "nbconvert_exporter": "python",
   "pygments_lexer": "ipython3",
   "version": "3.7.6"
  }
 },
 "nbformat": 4,
 "nbformat_minor": 4
}
